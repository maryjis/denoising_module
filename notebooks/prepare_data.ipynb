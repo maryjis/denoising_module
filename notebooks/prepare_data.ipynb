{
 "cells": [
  {
   "cell_type": "code",
   "execution_count": 9,
   "metadata": {},
   "outputs": [],
   "source": [
    "import numpy as np\n",
    "import os\n",
    "from matplotlib import pyplot as plt\n",
    "from torch.utils.data import Dataset, DataLoader\n",
    "from PIL import Image"
   ]
  },
  {
   "cell_type": "markdown",
   "metadata": {},
   "source": [
    " ## 1. Подкотовка данных к обучению "
   ]
  },
  {
   "cell_type": "markdown",
   "metadata": {},
   "source": [
    "1. Разобьем исходную mel-спектограмму на временные интервалы. Временнной интервал возьмем равным 80."
   ]
  },
  {
   "cell_type": "code",
   "execution_count": 10,
   "metadata": {},
   "outputs": [],
   "source": [
    "dir_path =\"train/clean\""
   ]
  },
  {
   "cell_type": "code",
   "execution_count": 11,
   "metadata": {},
   "outputs": [
    {
     "data": {
      "text/plain": [
       "3.0"
      ]
     },
     "execution_count": 11,
     "metadata": {},
     "output_type": "execute_result"
    }
   ],
   "source": [
    "np.ceil(2.01)"
   ]
  },
  {
   "cell_type": "code",
   "execution_count": 12,
   "metadata": {},
   "outputs": [],
   "source": [
    "def padding_left(numpy_image, frame_size):\n",
    "    result_image = np.zeros((frame_size,numpy_image.shape[1])).astype(np.float16)\n",
    "    result_image[:numpy_image.shape[0],:] =numpy_image\n",
    "    return result_image    "
   ]
  },
  {
   "cell_type": "code",
   "execution_count": 13,
   "metadata": {},
   "outputs": [],
   "source": [
    "def cut_image_into_frames(numpy_image, frame_size):\n",
    "    if (numpy_image.shape[0]< frame_size):\n",
    "        result_image =padding_left(numpy_image, frame_size)\n",
    "        return [result_image]\n",
    "    elif(numpy_image.shape[0]== frame_size):\n",
    "        return [numpy_image]\n",
    "    else:\n",
    "        results =[]\n",
    "        frame_number =int(np.ceil(numpy_image.shape[0]/frame_size))\n",
    "        for frame_id in range(0,frame_number):\n",
    "            if(numpy_image.shape[0]>=(frame_id+1)*frame_size):\n",
    "                result_image=numpy_image[frame_id*frame_size:(frame_id+1)*frame_size, :]\n",
    "                results.append(result_image)\n",
    "            else:\n",
    "                result_image=padding_left(numpy_image[frame_id*frame_size:, :],frame_size)\n",
    "                results.append(result_image)\n",
    "        return results       "
   ]
  },
  {
   "cell_type": "code",
   "execution_count": 14,
   "metadata": {},
   "outputs": [],
   "source": [
    "def combine_frames(result_paths, size):\n",
    "    results =[]\n",
    "    for result in result_paths:\n",
    "        results.append(np.load(result))\n",
    "    result_frame =np.concatenate(results, axis=0)\n",
    "    return result_frame[:size, :]"
   ]
  },
  {
   "cell_type": "code",
   "execution_count": 15,
   "metadata": {},
   "outputs": [],
   "source": [
    "def combine_frames_v2(results, size):\n",
    "    result_frame =np.concatenate(results, axis=0)\n",
    "    return result_frame[:size, :]"
   ]
  },
  {
   "cell_type": "markdown",
   "metadata": {},
   "source": [
    "2. Проверим, что разделение формируется корректно"
   ]
  },
  {
   "cell_type": "code",
   "execution_count": 16,
   "metadata": {},
   "outputs": [],
   "source": [
    "train_image_clean =np.load(\"val/clean/8156/8156_104526_8156-104526-0014.npy\")\n",
    "train_image_noisy =np.load(\"val/noisy/8156/8156_104526_8156-104526-0014.npy\")"
   ]
  },
  {
   "cell_type": "code",
   "execution_count": 17,
   "metadata": {},
   "outputs": [],
   "source": [
    "results=cut_image_into_frames(train_image_clean, 80)"
   ]
  },
  {
   "cell_type": "code",
   "execution_count": 18,
   "metadata": {},
   "outputs": [],
   "source": [
    "old_train =combine_frames_v2(results, train_image_clean.shape[0])"
   ]
  },
  {
   "cell_type": "code",
   "execution_count": 19,
   "metadata": {},
   "outputs": [
    {
     "data": {
      "text/plain": [
       "True"
      ]
     },
     "execution_count": 19,
     "metadata": {},
     "output_type": "execute_result"
    }
   ],
   "source": [
    "np.array_equal(old_train,train_image_clean)"
   ]
  },
  {
   "cell_type": "markdown",
   "metadata": {},
   "source": [
    "## Формирование датасета для обучения, состоящего из нарезанных аудио "
   ]
  },
  {
   "cell_type": "code",
   "execution_count": 20,
   "metadata": {},
   "outputs": [],
   "source": [
    "import pandas as pd"
   ]
  },
  {
   "cell_type": "code",
   "execution_count": 81,
   "metadata": {},
   "outputs": [],
   "source": [
    "def normalize_data(numpy_array):\n",
    "        numpy_array =(numpy_array -numpy_array.min())/ (numpy_array.max()- numpy_array.min()) *255\n",
    "        return numpy_array.astype(np.uint8)"
   ]
  },
  {
   "cell_type": "code",
   "execution_count": 82,
   "metadata": {},
   "outputs": [],
   "source": [
    "def generate_dataset_for_denoising(root_dir,frame_size):\n",
    "    clean_path =\"clean\"\n",
    "    noisy_path =\"noisy\"\n",
    "    train_mels =[]\n",
    "    new_root_dir =root_dir +\"_frames\"\n",
    "    if(not os.path.exists(new_root_dir)):\n",
    "        os.mkdir(new_root_dir)\n",
    "        os.mkdir(os.path.join(new_root_dir, clean_path))\n",
    "        os.mkdir(os.path.join(new_root_dir, noisy_path))\n",
    "        \n",
    "    train_packages =os.listdir(os.path.join(root_dir, clean_path))\n",
    "    denoising_dataset =[]\n",
    "    for train_package in train_packages:\n",
    "        clean_package =os.path.join(root_dir,clean_path,train_package)\n",
    "        new_clean_package = os.path.join(new_root_dir,clean_path,train_package)\n",
    "        new_noisy_package = os.path.join(new_root_dir,noisy_path,train_package)\n",
    "        if(not os.path.exists(new_clean_package)):\n",
    "            os.mkdir(new_clean_package)\n",
    "            os.mkdir(new_noisy_package)\n",
    "        mel_files =os.listdir(clean_package)\n",
    "        for mel_file in mel_files:\n",
    "            path_clean =os.path.join(clean_package,mel_file)\n",
    "            path_noise =os.path.join(root_dir,noisy_path,train_package, mel_file)\n",
    "            \n",
    "            path_package =mel_file.split(\".\")[0]\n",
    "            \n",
    "            path_clean_package = os.path.join(new_clean_package,path_package)\n",
    "            path_noise_package =os.path.join(new_noisy_package,path_package)\n",
    "            \n",
    "            if(not os.path.exists(path_clean_package)):\n",
    "                os.mkdir(path_clean_package)\n",
    "            if(not os.path.exists(path_noise_package)):\n",
    "                os.mkdir(path_noise_package)\n",
    "                \n",
    "            mel_clean =np.load(path_clean)\n",
    "            mel_noise =np.load(path_noise)\n",
    "            mel_clean_frames =cut_image_into_frames(mel_clean, frame_size)\n",
    "            mel_noise_frames =cut_image_into_frames(mel_noise, frame_size)        \n",
    "            for i, (mel_clean_frame,mel_noise_frame) in  enumerate(zip(mel_clean_frames,mel_noise_frames)):\n",
    "                    first_name =mel_file.split(\".\")[0]\n",
    "                    mel_clean_frame_path = os.path.join(path_clean_package,first_name+\"_\"+str(i) +\".npy\")\n",
    "                    mel_noise_frame_path =os.path.join(path_noise_package,first_name+\"_\"+str(i) +\".npy\")\n",
    "                    np.save(mel_clean_frame_path, mel_clean_frame) \n",
    "                    np.save(mel_noise_frame_path, mel_noise_frame)\n",
    "                    mel_entity ={\"mel_clean_frame_path\" : mel_clean_frame_path, \"mel_noise_frame_path\": mel_noise_frame_path, \"study_id\": first_name}\n",
    "                    denoising_dataset.append(mel_entity)        \n",
    "    return denoising_dataset"
   ]
  },
  {
   "cell_type": "code",
   "execution_count": 84,
   "metadata": {},
   "outputs": [],
   "source": [
    "denoising_dataset =generate_dataset_for_denoising(\"train\",80)"
   ]
  },
  {
   "cell_type": "code",
   "execution_count": 85,
   "metadata": {},
   "outputs": [],
   "source": [
    "train_data =pd.DataFrame().from_dict(denoising_dataset)"
   ]
  },
  {
   "cell_type": "code",
   "execution_count": 86,
   "metadata": {},
   "outputs": [],
   "source": [
    "train_data= pd.read_csv(\"denoising_dataset.csv\")"
   ]
  },
  {
   "cell_type": "markdown",
   "metadata": {},
   "source": [
    "4. Проверим, что данные сгенерировались корректно"
   ]
  },
  {
   "cell_type": "code",
   "execution_count": 88,
   "metadata": {},
   "outputs": [],
   "source": [
    "result_paths=list(train_data.loc[train_data[\"study_id\"]==\"20_205_20-205-0004\"][\"mel_clean_frame_path\"].values)"
   ]
  },
  {
   "cell_type": "code",
   "execution_count": 97,
   "metadata": {},
   "outputs": [],
   "source": [
    "train_old =combine_frames(result_paths, 875)"
   ]
  },
  {
   "cell_type": "code",
   "execution_count": 90,
   "metadata": {},
   "outputs": [
    {
     "data": {
      "text/plain": [
       "dtype('float16')"
      ]
     },
     "execution_count": 90,
     "metadata": {},
     "output_type": "execute_result"
    }
   ],
   "source": [
    "train_old.dtype"
   ]
  },
  {
   "cell_type": "code",
   "execution_count": 91,
   "metadata": {},
   "outputs": [
    {
     "data": {
      "text/plain": [
       "array([[ 0.5195,  0.1609,  0.1993, ..., -0.3667, -0.3923, -0.3987],\n",
       "       [ 0.5166,  0.2693,  0.2184, ..., -0.2974, -0.3953, -0.362 ],\n",
       "       [ 0.4285,  0.2668,  0.1334, ..., -0.287 , -0.3647, -0.3606],\n",
       "       ...,\n",
       "       [ 0.4836,  0.24  ,  0.1538, ..., -0.3518, -0.3894, -0.3948],\n",
       "       [ 0.4263,  0.352 ,  0.2025, ..., -0.3296, -0.4255, -0.4363],\n",
       "       [ 0.507 ,  0.3787,  0.2098, ..., -0.2905, -0.3987, -0.404 ]],\n",
       "      dtype=float16)"
      ]
     },
     "execution_count": 91,
     "metadata": {},
     "output_type": "execute_result"
    }
   ],
   "source": [
    "train_image_clean"
   ]
  },
  {
   "cell_type": "code",
   "execution_count": 99,
   "metadata": {},
   "outputs": [],
   "source": [
    "train_old =normalize_data(train_old)"
   ]
  },
  {
   "cell_type": "code",
   "execution_count": 93,
   "metadata": {},
   "outputs": [
    {
     "data": {
      "text/plain": [
       "array([[129,  82,  87, ...,  14,  10,   9],\n",
       "       [129,  97,  90, ...,  23,  10,  14],\n",
       "       [117,  96,  79, ...,  24,  14,  14],\n",
       "       ...,\n",
       "       [125,  93,  82, ...,  15,  11,  10],\n",
       "       [117, 107,  88, ...,  18,   6,   4],\n",
       "       [128, 111,  89, ...,  23,   9,   9]], dtype=uint8)"
      ]
     },
     "execution_count": 93,
     "metadata": {},
     "output_type": "execute_result"
    }
   ],
   "source": [
    "train_old"
   ]
  },
  {
   "cell_type": "code",
   "execution_count": 100,
   "metadata": {},
   "outputs": [],
   "source": [
    "train_image_clean =normalize_data(train_old)"
   ]
  },
  {
   "cell_type": "code",
   "execution_count": 101,
   "metadata": {},
   "outputs": [
    {
     "data": {
      "text/plain": [
       "<matplotlib.image.AxesImage at 0x7f785f53bb70>"
      ]
     },
     "execution_count": 101,
     "metadata": {},
     "output_type": "execute_result"
    },
    {
     "data": {
      "image/png": "[encoded data removed]",
      "text/plain": [
       "<Figure size 432x288 with 1 Axes>"
      ]
     },
     "metadata": {},
     "output_type": "display_data"
    }
   ],
   "source": [
    "plt.imshow(train_image_clean)"
   ]
  },
  {
   "cell_type": "code",
   "execution_count": 102,
   "metadata": {},
   "outputs": [
    {
     "data": {
      "text/plain": [
       "array([[129,  82,  87, ...,  14,  10,   9],\n",
       "       [129,  97,  90, ...,  23,  10,  14],\n",
       "       [117,  96,  79, ...,  24,  14,  14],\n",
       "       ...,\n",
       "       [125,  93,  82, ...,  15,  11,  10],\n",
       "       [117, 107,  88, ...,  18,   6,   4],\n",
       "       [128, 111,  89, ...,  23,   9,   9]], dtype=uint8)"
      ]
     },
     "execution_count": 102,
     "metadata": {},
     "output_type": "execute_result"
    }
   ],
   "source": [
    "train_old"
   ]
  },
  {
   "cell_type": "code",
   "execution_count": 103,
   "metadata": {},
   "outputs": [
    {
     "data": {
      "text/plain": [
       "<matplotlib.image.AxesImage at 0x7f785d281be0>"
      ]
     },
     "execution_count": 103,
     "metadata": {},
     "output_type": "execute_result"
    },
    {
     "data": {
      "image/png": "[encoded data removed]",
      "text/plain": [
       "<Figure size 432x288 with 1 Axes>"
      ]
     },
     "metadata": {},
     "output_type": "display_data"
    }
   ],
   "source": [
    "plt.imshow(train_old)"
   ]
  },
  {
   "cell_type": "code",
   "execution_count": 104,
   "metadata": {},
   "outputs": [
    {
     "data": {
      "text/plain": [
       "(875, 80)"
      ]
     },
     "execution_count": 104,
     "metadata": {},
     "output_type": "execute_result"
    }
   ],
   "source": [
    "train_old.shape"
   ]
  },
  {
   "cell_type": "code",
   "execution_count": 105,
   "metadata": {},
   "outputs": [
    {
     "data": {
      "text/plain": [
       "True"
      ]
     },
     "execution_count": 105,
     "metadata": {},
     "output_type": "execute_result"
    }
   ],
   "source": [
    "np.array_equal(train_old,train_image_clean)"
   ]
  },
  {
   "cell_type": "code",
   "execution_count": null,
   "metadata": {},
   "outputs": [],
   "source": []
  }
 ],
 "metadata": {
  "kernelspec": {
   "display_name": "Python 3",
   "language": "python",
   "name": "python3"
  },
  "language_info": {
   "codemirror_mode": {
    "name": "ipython",
    "version": 3
   },
   "file_extension": ".py",
   "mimetype": "text/x-python",
   "name": "python",
   "nbconvert_exporter": "python",
   "pygments_lexer": "ipython3",
   "version": "3.7.6"
  }
 },
 "nbformat": 4,
 "nbformat_minor": 2
}
