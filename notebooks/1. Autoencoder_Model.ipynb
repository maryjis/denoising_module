{
 "cells": [
  {
   "cell_type": "code",
   "execution_count": 1,
   "metadata": {},
   "outputs": [],
   "source": [
    "import numpy as np\n",
    "import os\n",
    "from matplotlib import pyplot as plt\n",
    "from torch.utils.data import Dataset, DataLoader\n",
    "from PIL import Image\n",
    "import torch.nn as nn\n",
    "import torch\n",
    "import pandas as pd\n",
    "from torch.autograd import Variable"
   ]
  },
  {
   "cell_type": "code",
   "execution_count": 2,
   "metadata": {},
   "outputs": [],
   "source": [
    "dir_path =\"train/clean\""
   ]
  },
  {
   "cell_type": "code",
   "execution_count": 3,
   "metadata": {},
   "outputs": [],
   "source": [
    "def padding_left(numpy_image, frame_size):\n",
    "    result_image = np.zeros((frame_size,numpy_image.shape[1])).astype(np.float16)\n",
    "    result_image[:numpy_image.shape[0],:] =numpy_image\n",
    "    return result_image    "
   ]
  },
  {
   "cell_type": "code",
   "execution_count": 4,
   "metadata": {},
   "outputs": [],
   "source": [
    "def normalize_data(numpy_array):\n",
    "        numpy_array =(numpy_array -numpy_array.min())/ (numpy_array.max()- numpy_array.min()) *255\n",
    "        return numpy_array.astype(np.uint8)"
   ]
  },
  {
   "cell_type": "code",
   "execution_count": 5,
   "metadata": {},
   "outputs": [],
   "source": [
    "def cut_image_into_frames(numpy_image, frame_size):\n",
    "    if (numpy_image.shape[0]< frame_size):\n",
    "        result_image =padding_left(numpy_image, frame_size)\n",
    "        return [result_image]\n",
    "    elif(numpy_image.shape[0]== frame_size):\n",
    "        return [numpy_image]\n",
    "    else:\n",
    "        results =[]\n",
    "        frame_number =int(np.ceil(numpy_image.shape[0]/frame_size))\n",
    "        for frame_id in range(0,frame_number):\n",
    "            if(numpy_image.shape[0]>=(frame_id+1)*frame_size):\n",
    "                result_image=numpy_image[frame_id*frame_size:(frame_id+1)*frame_size, :]\n",
    "                results.append(result_image)\n",
    "            else:\n",
    "                result_image=padding_left(numpy_image[frame_id*frame_size:, :],frame_size)\n",
    "                results.append(result_image)\n",
    "        return results       "
   ]
  },
  {
   "cell_type": "code",
   "execution_count": 6,
   "metadata": {},
   "outputs": [],
   "source": [
    "def combine_frames(results, size):\n",
    "    result_frame =np.concatenate(results, axis=0)\n",
    "    return result_frame[:size, :]"
   ]
  },
  {
   "cell_type": "code",
   "execution_count": 7,
   "metadata": {},
   "outputs": [],
   "source": [
    "class DenoisingDatasetVal(Dataset):    \n",
    "    \"\"\"Sound denoising dataset.\"\"\"\n",
    "\n",
    "    def __init__(self, root_dir, transform=None):\n",
    "        self.root_dir = root_dir\n",
    "        clean_path =\"clean\"\n",
    "        noisy_path =\"noisy\"\n",
    "        self.train_mels =[]\n",
    "        train_packages =os.listdir(os.path.join(self.root_dir, clean_path))\n",
    "        for train_package in train_packages:\n",
    "            clean_package =os.path.join(self.root_dir,clean_path,train_package)\n",
    "            mel_files =os.listdir(clean_package)\n",
    "            for mel_file in mel_files:\n",
    "                mel_clean =os.path.join(clean_package,mel_file)\n",
    "                mel_noise =os.path.join(self.root_dir,noisy_path,train_package, mel_file)\n",
    "                self.train_mels.append((mel_clean,mel_noise))\n",
    "\n",
    "    def __len__(self):\n",
    "        return len(self.train_mels)\n",
    "\n",
    "    def __getitem__(self, idx):\n",
    "        path_clean =self.train_mels[idx][0]\n",
    "        path_noise =self.train_mels[idx][1]\n",
    "        return path_clean, path_noise"
   ]
  },
  {
   "cell_type": "code",
   "execution_count": 8,
   "metadata": {},
   "outputs": [],
   "source": [
    "class DenoisingDatasetTrain(Dataset):    \n",
    "    \"\"\"Sound denoising dataset.\"\"\"\n",
    "\n",
    "    def __init__(self, train_path):\n",
    "        self.train_path = train_path\n",
    "        self.data =pd.read_csv(self.train_path)\n",
    "\n",
    "    def __len__(self):\n",
    "        return self.data.shape[0]\n",
    "\n",
    "    def __getitem__(self, idx):\n",
    "        path_clean =self.data.iloc[idx][\"mel_clean_frame_path\"]\n",
    "        path_noise =self.data.iloc[idx][\"mel_noise_frame_path\"]\n",
    "        study_id= self.data.iloc[idx][\"study_id\"]\n",
    "        clean_image_frame =np.load(path_clean)\n",
    "        noisy_image_frame =np.load(path_noise)\n",
    "        clean_image_frame =clean_image_frame[np.newaxis, :, :]\n",
    "        noisy_image_frame =noisy_image_frame[np.newaxis, :, :]\n",
    "        return study_id,clean_image_frame, noisy_image_frame"
   ]
  },
  {
   "cell_type": "code",
   "execution_count": 9,
   "metadata": {},
   "outputs": [],
   "source": [
    "def plot_frames(*args):\n",
    "    args = [x.squeeze() for x in args]\n",
    "    n = min([x.shape[0] for x in args])\n",
    "    \n",
    "    plt.figure(figsize=(2*n, 2*len(args)))\n",
    "    for j in range(n):\n",
    "        for i in range(len(args)):\n",
    "            ax = plt.subplot(len(args), n, i*n + j + 1)\n",
    "            plt.imshow(args[i][j])\n",
    "            ax.get_xaxis().set_visible(False)\n",
    "            ax.get_yaxis().set_visible(False)\n",
    "\n",
    "    plt.show()"
   ]
  },
  {
   "cell_type": "code",
   "execution_count": 10,
   "metadata": {},
   "outputs": [],
   "source": [
    "train_data=DenoisingDatasetTrain(\"denoising_dataset.csv\")\n",
    "val_data=DenoisingDatasetVal(\"val\")"
   ]
  },
  {
   "cell_type": "code",
   "execution_count": 11,
   "metadata": {},
   "outputs": [],
   "source": [
    "train_loader =DataLoader(train_data, batch_size=128)\n",
    "val_loader =DataLoader(val_data, batch_size=1)"
   ]
  },
  {
   "cell_type": "code",
   "execution_count": 13,
   "metadata": {},
   "outputs": [],
   "source": [
    "class DenoisingAutoEncoder(nn.Module):\n",
    " \n",
    "    def __init__(self):\n",
    "        super(DenoisingAutoEncoder, self).__init__()\n",
    "        self.encoder = nn.Sequential(\n",
    "            nn.Conv2d(1, 16, 3, stride=1, padding=1),\n",
    "            nn.ReLU(True),\n",
    "            nn.BatchNorm2d(16),\n",
    "            nn.MaxPool2d(2, stride=2), \n",
    "            nn.Conv2d(16, 8, 3, stride=1, padding=1), \n",
    "            nn.ReLU(True),\n",
    "            nn.BatchNorm2d(8),\n",
    "            nn.MaxPool2d(2, stride=2)  \n",
    "        )\n",
    "        self.decoder = nn.Sequential(\n",
    "            nn.ConvTranspose2d(8, 16, 3, stride=2),  \n",
    "            nn.ReLU(True),\n",
    "            nn.BatchNorm2d(16),\n",
    "            nn.ConvTranspose2d(16, 8, 3, stride=2, padding=1),  \n",
    "            nn.ReLU(True),\n",
    "            nn.BatchNorm2d(8),\n",
    "            nn.ConvTranspose2d(8, 1, 2, stride=1, padding=1),  \n",
    "        )\n",
    "\n",
    "    def forward(self, x):\n",
    "        x = self.encoder(x)\n",
    "        x = self.decoder(x)\n",
    "        return x"
   ]
  },
  {
   "cell_type": "code",
   "execution_count": 14,
   "metadata": {},
   "outputs": [],
   "source": [
    "num_epochs =50\n",
    "learning_rate =0.01\n",
    "frame_size= 80"
   ]
  },
  {
   "cell_type": "code",
   "execution_count": 15,
   "metadata": {},
   "outputs": [],
   "source": [
    "model = DenoisingAutoEncoder().cuda()\n",
    "criterion = nn.MSELoss()\n",
    "optimizer = torch.optim.Adam(model.parameters(), lr=learning_rate,\n",
    "                             weight_decay=1e-5)"
   ]
  },
  {
   "cell_type": "code",
   "execution_count": 16,
   "metadata": {},
   "outputs": [
    {
     "data": {
      "text/plain": [
       "DenoisingAutoEncoder(\n",
       "  (encoder): Sequential(\n",
       "    (0): Conv2d(1, 16, kernel_size=(3, 3), stride=(1, 1), padding=(1, 1))\n",
       "    (1): ReLU(inplace=True)\n",
       "    (2): BatchNorm2d(16, eps=1e-05, momentum=0.1, affine=True, track_running_stats=True)\n",
       "    (3): MaxPool2d(kernel_size=2, stride=2, padding=0, dilation=1, ceil_mode=False)\n",
       "    (4): Conv2d(16, 8, kernel_size=(3, 3), stride=(1, 1), padding=(1, 1))\n",
       "    (5): ReLU(inplace=True)\n",
       "    (6): BatchNorm2d(8, eps=1e-05, momentum=0.1, affine=True, track_running_stats=True)\n",
       "    (7): MaxPool2d(kernel_size=2, stride=2, padding=0, dilation=1, ceil_mode=False)\n",
       "  )\n",
       "  (decoder): Sequential(\n",
       "    (0): ConvTranspose2d(8, 16, kernel_size=(3, 3), stride=(2, 2))\n",
       "    (1): ReLU(inplace=True)\n",
       "    (2): BatchNorm2d(16, eps=1e-05, momentum=0.1, affine=True, track_running_stats=True)\n",
       "    (3): ConvTranspose2d(16, 8, kernel_size=(3, 3), stride=(2, 2), padding=(1, 1))\n",
       "    (4): ReLU(inplace=True)\n",
       "    (5): BatchNorm2d(8, eps=1e-05, momentum=0.1, affine=True, track_running_stats=True)\n",
       "    (6): ConvTranspose2d(8, 1, kernel_size=(2, 2), stride=(1, 1), padding=(1, 1))\n",
       "  )\n",
       ")"
      ]
     },
     "execution_count": 16,
     "metadata": {},
     "output_type": "execute_result"
    }
   ],
   "source": [
    "model"
   ]
  },
  {
   "cell_type": "code",
   "execution_count": 17,
   "metadata": {},
   "outputs": [],
   "source": [
    "def cross_validation(model,criterion, val_loader):\n",
    "    overal_valid_loss =0\n",
    "    val_count=0\n",
    "    with torch.no_grad():\n",
    "        for path_clean, path_noise in val_loader:\n",
    "            val_count+=1\n",
    "            model.eval()\n",
    "            mel_clean =np.load(path_clean[0])\n",
    "            mel_noise =np.load(path_noise[0])\n",
    "            mel_clean_frames =cut_image_into_frames(mel_clean, frame_size)\n",
    "            mel_noise_frames =cut_image_into_frames(mel_noise, frame_size)\n",
    "            overal_image_loss =0\n",
    "            for mel_clean_frame,mel_noise_frame in  zip(mel_clean_frames,mel_noise_frames):\n",
    "                    mel_noise_frame= torch.tensor(mel_noise_frame, dtype =torch.float)\n",
    "                    mel_noise_frame=mel_noise_frame[np.newaxis,np.newaxis, :, :]\n",
    "                    mel_clean_frame =torch.tensor(mel_clean_frame,dtype =torch.float)\n",
    "                    mel_clean_frame=mel_clean_frame[np.newaxis,np.newaxis, :, :]\n",
    "                    img_noisy = Variable(mel_noise_frame).cuda()\n",
    "                    img_clean = Variable(mel_clean_frame).cuda()\n",
    "                    # ===================forward=====================\n",
    "                    output = model(img_noisy)\n",
    "                    loss = criterion(output, img_clean)\n",
    "                    overal_image_loss+=loss.cpu().detach().numpy()\n",
    "            overal_image_loss =overal_image_loss/ len(mel_clean_frames)\n",
    "            overal_valid_loss+=overal_image_loss\n",
    "        print('val loss:{:.4f}', overal_valid_loss/val_count)"
   ]
  },
  {
   "cell_type": "code",
   "execution_count": 19,
   "metadata": {},
   "outputs": [
    {
     "name": "stdout",
     "output_type": "stream",
     "text": [
      "epoch [1/50], loss:0.0731\n",
      "val loss:{:.4f} 0.07022970320064316\n",
      "epoch [2/50], loss:0.0693\n",
      "val loss:{:.4f} 0.0678097390924095\n",
      "epoch [3/50], loss:0.0678\n",
      "val loss:{:.4f} 0.06923925768529139\n",
      "epoch [4/50], loss:0.0668\n",
      "val loss:{:.4f} 0.07002911025186967\n",
      "epoch [5/50], loss:0.0665\n",
      "val loss:{:.4f} 0.0676533434135941\n",
      "epoch [6/50], loss:0.0658\n",
      "val loss:{:.4f} 0.06679688660258354\n",
      "epoch [7/50], loss:0.0655\n",
      "val loss:{:.4f} 0.06360243008487781\n",
      "epoch [8/50], loss:0.0655\n",
      "val loss:{:.4f} 0.06585996852697754\n",
      "epoch [9/50], loss:0.0650\n",
      "val loss:{:.4f} 0.06527411333986496\n",
      "epoch [10/50], loss:0.0653\n",
      "val loss:{:.4f} 0.06299372130448146\n",
      "epoch [11/50], loss:0.0650\n",
      "val loss:{:.4f} 0.0696481352007448\n",
      "epoch [12/50], loss:0.0649\n",
      "val loss:{:.4f} 0.07118571667577005\n",
      "epoch [13/50], loss:0.0647\n",
      "val loss:{:.4f} 0.06707869607629295\n",
      "epoch [14/50], loss:0.0653\n",
      "val loss:{:.4f} 0.06405318503310774\n",
      "epoch [15/50], loss:0.0646\n",
      "val loss:{:.4f} 0.06336034280734369\n",
      "epoch [16/50], loss:0.0645\n",
      "val loss:{:.4f} 0.06378170728332595\n",
      "epoch [17/50], loss:0.0648\n",
      "val loss:{:.4f} 0.06395240701110795\n",
      "epoch [18/50], loss:0.0644\n",
      "val loss:{:.4f} 0.06320896545958943\n",
      "epoch [19/50], loss:0.0646\n",
      "val loss:{:.4f} 0.06357163448941824\n",
      "epoch [20/50], loss:0.0642\n",
      "val loss:{:.4f} 0.062194198499736904\n",
      "epoch [21/50], loss:0.0643\n",
      "val loss:{:.4f} 0.06226749471550562\n",
      "epoch [22/50], loss:0.0642\n",
      "val loss:{:.4f} 0.06540616332377333\n",
      "epoch [23/50], loss:0.0641\n",
      "val loss:{:.4f} 0.061846164404106715\n",
      "epoch [24/50], loss:0.0642\n",
      "val loss:{:.4f} 0.059514486671970235\n",
      "epoch [25/50], loss:0.0643\n",
      "val loss:{:.4f} 0.06167312636874684\n",
      "epoch [26/50], loss:0.0639\n",
      "val loss:{:.4f} 0.06131721279944822\n",
      "epoch [27/50], loss:0.0640\n",
      "val loss:{:.4f} 0.05887010423248836\n",
      "epoch [28/50], loss:0.0641\n",
      "val loss:{:.4f} 0.059383786771857204\n",
      "epoch [29/50], loss:0.0644\n",
      "val loss:{:.4f} 0.05881164952659792\n",
      "epoch [30/50], loss:0.0638\n",
      "val loss:{:.4f} 0.05847478431738615\n",
      "epoch [31/50], loss:0.0643\n",
      "val loss:{:.4f} 0.059602022559890756\n",
      "epoch [32/50], loss:0.0641\n",
      "val loss:{:.4f} 0.058158497240985124\n",
      "epoch [33/50], loss:0.0639\n",
      "val loss:{:.4f} 0.05932259118201414\n",
      "epoch [34/50], loss:0.0640\n",
      "val loss:{:.4f} 0.06123681892915687\n",
      "epoch [35/50], loss:0.0639\n",
      "val loss:{:.4f} 0.06035418637234154\n",
      "epoch [36/50], loss:0.0640\n",
      "val loss:{:.4f} 0.05913920300552841\n",
      "epoch [37/50], loss:0.0640\n",
      "val loss:{:.4f} 0.05925731696844016\n",
      "epoch [38/50], loss:0.0641\n"
     ]
    },
    {
     "ename": "KeyboardInterrupt",
     "evalue": "",
     "output_type": "error",
     "traceback": [
      "\u001b[0;31m---------------------------------------------------------------------------\u001b[0m",
      "\u001b[0;31mKeyboardInterrupt\u001b[0m                         Traceback (most recent call last)",
      "\u001b[0;32m<ipython-input-19-884f4da8cde1>\u001b[0m in \u001b[0;36m<module>\u001b[0;34m()\u001b[0m\n\u001b[1;32m     20\u001b[0m     \u001b[0mprint\u001b[0m\u001b[0;34m(\u001b[0m\u001b[0;34m'epoch [{}/{}], loss:{:.4f}'\u001b[0m\u001b[0;34m.\u001b[0m\u001b[0mformat\u001b[0m\u001b[0;34m(\u001b[0m\u001b[0mepoch\u001b[0m \u001b[0;34m+\u001b[0m \u001b[0;36m1\u001b[0m\u001b[0;34m,\u001b[0m \u001b[0mnum_epochs\u001b[0m\u001b[0;34m,\u001b[0m \u001b[0moveral_train_loss\u001b[0m\u001b[0;34m/\u001b[0m\u001b[0mcount_train\u001b[0m\u001b[0;34m)\u001b[0m\u001b[0;34m)\u001b[0m\u001b[0;34m\u001b[0m\u001b[0;34m\u001b[0m\u001b[0m\n\u001b[1;32m     21\u001b[0m \u001b[0;31m#     plot_frames(img_clean[:10].cpu().detach().numpy(),img_noisy.cpu().detach().numpy(),output.cpu().detach().numpy())\u001b[0m\u001b[0;34m\u001b[0m\u001b[0;34m\u001b[0m\u001b[0;34m\u001b[0m\u001b[0m\n\u001b[0;32m---> 22\u001b[0;31m     \u001b[0mcross_validation\u001b[0m\u001b[0;34m(\u001b[0m\u001b[0mmodel\u001b[0m\u001b[0;34m,\u001b[0m\u001b[0mcriterion\u001b[0m\u001b[0;34m,\u001b[0m \u001b[0mval_loader\u001b[0m\u001b[0;34m)\u001b[0m\u001b[0;34m\u001b[0m\u001b[0;34m\u001b[0m\u001b[0m\n\u001b[0m\u001b[1;32m     23\u001b[0m     \u001b[0;32mif\u001b[0m \u001b[0mepoch\u001b[0m \u001b[0;34m%\u001b[0m \u001b[0;36m10\u001b[0m \u001b[0;34m==\u001b[0m \u001b[0;36m0\u001b[0m\u001b[0;34m:\u001b[0m\u001b[0;34m\u001b[0m\u001b[0;34m\u001b[0m\u001b[0m\n\u001b[1;32m     24\u001b[0m         \u001b[0mtorch\u001b[0m\u001b[0;34m.\u001b[0m\u001b[0msave\u001b[0m\u001b[0;34m(\u001b[0m\u001b[0mmodel\u001b[0m\u001b[0;34m.\u001b[0m\u001b[0mstate_dict\u001b[0m\u001b[0;34m(\u001b[0m\u001b[0;34m)\u001b[0m\u001b[0;34m,\u001b[0m \u001b[0;34m'denoising_autoencoder_simple.pth'\u001b[0m\u001b[0;34m)\u001b[0m\u001b[0;34m\u001b[0m\u001b[0;34m\u001b[0m\u001b[0m\n",
      "\u001b[0;32m<ipython-input-17-b480744f4a3e>\u001b[0m in \u001b[0;36mcross_validation\u001b[0;34m(model, criterion, val_loader)\u001b[0m\n\u001b[1;32m     17\u001b[0m                     \u001b[0mmel_clean_frame\u001b[0m\u001b[0;34m=\u001b[0m\u001b[0mmel_clean_frame\u001b[0m\u001b[0;34m[\u001b[0m\u001b[0mnp\u001b[0m\u001b[0;34m.\u001b[0m\u001b[0mnewaxis\u001b[0m\u001b[0;34m,\u001b[0m\u001b[0mnp\u001b[0m\u001b[0;34m.\u001b[0m\u001b[0mnewaxis\u001b[0m\u001b[0;34m,\u001b[0m \u001b[0;34m:\u001b[0m\u001b[0;34m,\u001b[0m \u001b[0;34m:\u001b[0m\u001b[0;34m]\u001b[0m\u001b[0;34m\u001b[0m\u001b[0;34m\u001b[0m\u001b[0m\n\u001b[1;32m     18\u001b[0m                     \u001b[0mimg_noisy\u001b[0m \u001b[0;34m=\u001b[0m \u001b[0mVariable\u001b[0m\u001b[0;34m(\u001b[0m\u001b[0mmel_noise_frame\u001b[0m\u001b[0;34m)\u001b[0m\u001b[0;34m.\u001b[0m\u001b[0mcuda\u001b[0m\u001b[0;34m(\u001b[0m\u001b[0;34m)\u001b[0m\u001b[0;34m\u001b[0m\u001b[0;34m\u001b[0m\u001b[0m\n\u001b[0;32m---> 19\u001b[0;31m                     \u001b[0mimg_clean\u001b[0m \u001b[0;34m=\u001b[0m \u001b[0mVariable\u001b[0m\u001b[0;34m(\u001b[0m\u001b[0mmel_clean_frame\u001b[0m\u001b[0;34m)\u001b[0m\u001b[0;34m.\u001b[0m\u001b[0mcuda\u001b[0m\u001b[0;34m(\u001b[0m\u001b[0;34m)\u001b[0m\u001b[0;34m\u001b[0m\u001b[0;34m\u001b[0m\u001b[0m\n\u001b[0m\u001b[1;32m     20\u001b[0m                     \u001b[0;31m# ===================forward=====================\u001b[0m\u001b[0;34m\u001b[0m\u001b[0;34m\u001b[0m\u001b[0;34m\u001b[0m\u001b[0m\n\u001b[1;32m     21\u001b[0m                     \u001b[0moutput\u001b[0m \u001b[0;34m=\u001b[0m \u001b[0mmodel\u001b[0m\u001b[0;34m(\u001b[0m\u001b[0mimg_noisy\u001b[0m\u001b[0;34m)\u001b[0m\u001b[0;34m\u001b[0m\u001b[0;34m\u001b[0m\u001b[0m\n",
      "\u001b[0;31mKeyboardInterrupt\u001b[0m: "
     ]
    }
   ],
   "source": [
    "for epoch in range(num_epochs):\n",
    "    overal_train_loss =0\n",
    "    count_train =0\n",
    "    model.train()\n",
    "    for _, mel_clean, mel_noise in train_loader:\n",
    "        count_train+=1\n",
    "        mel_noise= mel_noise.float()\n",
    "        mel_clean =mel_clean.float()\n",
    "        img_noisy = Variable(mel_noise).cuda()\n",
    "        img_clean = Variable(mel_clean).cuda()\n",
    "        # ===================forward=====================\n",
    "        output = model(img_noisy)\n",
    "        loss = criterion(output, img_clean)\n",
    "        overal_train_loss+=loss.cpu().detach().numpy()\n",
    "        # ===================backward====================\n",
    "        optimizer.zero_grad()\n",
    "        loss.backward()\n",
    "        optimizer.step()\n",
    "    # ===================log========================\n",
    "    print('epoch [{}/{}], loss:{:.4f}'.format(epoch + 1, num_epochs, overal_train_loss/count_train))\n",
    "#     plot_frames(img_clean[:10].cpu().detach().numpy(),img_noisy.cpu().detach().numpy(),output.cpu().detach().numpy())\n",
    "    cross_validation(model,criterion, val_loader)\n",
    "    if epoch % 10 == 0:\n",
    "        torch.save(model.state_dict(), 'denoising_autoencoder_simple.pth')\n"
   ]
  },
  {
   "cell_type": "code",
   "execution_count": null,
   "metadata": {},
   "outputs": [],
   "source": []
  },
  {
   "cell_type": "code",
   "execution_count": null,
   "metadata": {},
   "outputs": [],
   "source": []
  }
 ],
 "metadata": {
  "kernelspec": {
   "display_name": "Python 3",
   "language": "python",
   "name": "python3"
  },
  "language_info": {
   "codemirror_mode": {
    "name": "ipython",
    "version": 3
   },
   "file_extension": ".py",
   "mimetype": "text/x-python",
   "name": "python",
   "nbconvert_exporter": "python",
   "pygments_lexer": "ipython3",
   "version": "3.7.6"
  }
 },
 "nbformat": 4,
 "nbformat_minor": 2
}
